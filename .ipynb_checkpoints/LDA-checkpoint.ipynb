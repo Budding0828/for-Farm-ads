{
 "cells": [
  {
   "cell_type": "code",
   "execution_count": 1,
   "metadata": {},
   "outputs": [],
   "source": [
    "import numpy as np\n",
    "from sklearn.discriminant_analysis import LinearDiscriminantAnalysis\n",
    "from preprocess import loadData\n",
    "from preprocess import cross_10folds"
   ]
  },
  {
   "cell_type": "code",
   "execution_count": 2,
   "metadata": {},
   "outputs": [],
   "source": [
    "def func(x, w):\n",
    "    return np.dot((x), w)"
   ]
  },
  {
   "cell_type": "code",
   "execution_count": 3,
   "metadata": {},
   "outputs": [],
   "source": [
    "# 最标准的写法\n",
    "def handw_LDA1(X, y):\n",
    "    X1 = np.array([X[i] for i in range(len(X)) if y[i] == 0])\n",
    "    X2 = np.array([X[i] for i in range(len(X)) if y[i] == 1])\n",
    " \n",
    "    len1 = len(X1)\n",
    "    len2 = len(X2)\n",
    " \n",
    "    mju1 = np.mean(X1, axis=0)#求中心点\n",
    "    mju2 = np.mean(X2, axis=0)\n",
    "    \n",
    "    cov1 = np.dot((X1 - mju1).T, (X1 - mju1))\n",
    "    cov2 = np.dot((X2 - mju2).T, (X2 - mju2))\n",
    "    Sw = cov1 + cov2\n",
    "    w = np.dot(np.mat(Sw).I, (mju1 - mju2).reshape((len(mju1),1)))# 计算w\n",
    "    return w"
   ]
  },
  {
   "cell_type": "code",
   "execution_count": 4,
   "metadata": {},
   "outputs": [],
   "source": [
    "def calculate_covariance_matrix(X, Y=np.empty((0,0))):\n",
    "    if not Y.any():\n",
    "        Y = X\n",
    "    n_samples = np.shape(X)[0]\n",
    "    covariance_matrix = (1 / (n_samples-1)) * (X - X.mean(axis=0)).T.dot(Y - Y.mean(axis=0))\n",
    "\n",
    "    return np.array(covariance_matrix, dtype=float)\n",
    "\n",
    "\n",
    "def handw_LDA2(train_x, train_y):\n",
    "    x1 = np.array([train_x[i] for i in range(train_x.shape[0]) if train_y[i] == 1])\n",
    "    x2 = np.array([train_x[i] for i in range(train_x.shape[0]) if train_y[i] == -1])\n",
    "    \n",
    "    print(x1.shape)\n",
    "    print(x2.shape)\n",
    "    \n",
    "    # 计算两个子集的协方差矩阵\n",
    "    S1 = calculate_covariance_matrix(x1)\n",
    "    S2 = calculate_covariance_matrix(x2)\n",
    "    Sw = S1 + S2\n",
    "    \n",
    "    # 计算两个子集的均值\n",
    "    mu1 = x1.mean(axis=0)\n",
    "    mu2 = x2.mean(axis=0)\n",
    "    mean_diff = np.atleast_1d(mu1 - mu2)\n",
    "    mean_diff = mean_diff.reshape(train_x.shape[1], -1)\n",
    "    \n",
    "    w = np.linalg.pinv(Sw).dot(mean_diff)\n",
    "    return w"
   ]
  },
  {
   "cell_type": "code",
   "execution_count": 5,
   "metadata": {},
   "outputs": [],
   "source": [
    "def sklearn_LDA(totdata_x, totdata_y):\n",
    "    res = 0.0\n",
    "    for j in range(0, 10):\n",
    "        train_x, train_y, test_x, test_y = cross_10folds(totdata_x, totdata_y, j)\n",
    "        clf = LinearDiscriminantAnalysis()\n",
    "        clf.fit(train_x, train_y)\n",
    "        LinearDiscriminantAnalysis(n_components=None, priors=None, shrinkage=None,\n",
    "              solver='svd', store_covariance=False, tol=0.0001)\n",
    "        right = 0\n",
    "        for i in range(0, test_x.shape[0]):\n",
    "            if(clf.predict([test_x[i]])==test_y[i]):\n",
    "                right = right+1\n",
    "    \n",
    "        res += right/test_y.shape[0]\n",
    "        print(\"第 %d 次的准确率为 %f\" %(j, right/test_y.shape[0]))\n",
    "    \n",
    "    print(\"最后的准确率为 %f\" %(res/10))"
   ]
  },
  {
   "cell_type": "code",
   "execution_count": null,
   "metadata": {},
   "outputs": [],
   "source": []
  }
 ],
 "metadata": {
  "kernelspec": {
   "display_name": "Python [conda env:test1]",
   "language": "python",
   "name": "conda-env-test1-py"
  },
  "language_info": {
   "codemirror_mode": {
    "name": "ipython",
    "version": 3
   },
   "file_extension": ".py",
   "mimetype": "text/x-python",
   "name": "python",
   "nbconvert_exporter": "python",
   "pygments_lexer": "ipython3",
   "version": "3.6.8"
  }
 },
 "nbformat": 4,
 "nbformat_minor": 2
}
