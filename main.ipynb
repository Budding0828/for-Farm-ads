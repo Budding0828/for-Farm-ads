{
 "cells": [
  {
   "cell_type": "code",
   "execution_count": 2,
   "metadata": {},
   "outputs": [],
   "source": [
    "from kNN import handw_KNN\n",
    "from LDA import handw_LDA1\n",
    "from LDA import handw_LDA2\n",
    "from LDA import sklearn_LDA\n",
    "from SVM import handw_SVM\n",
    "from SVM import sklearn_SVM\n",
    "from preprocess import loadData\n",
    "from preprocess import cross_10folds\n",
    "import numpy as np\n",
    "from sklearn.discriminant_analysis import LinearDiscriminantAnalysis\n",
    "from sklearn import svm\n",
    "from numpy import *\n",
    "import time"
   ]
  },
  {
   "cell_type": "code",
   "execution_count": 4,
   "metadata": {},
   "outputs": [
    {
     "name": "stdout",
     "output_type": "stream",
     "text": [
      "需要剔除的数据： {'found', 'www', 'page', 'com', 'ad', 'header', 'title'}\n",
      "totword number=  7696\n",
      "程序运行时间： 0.0 秒\n"
     ]
    }
   ],
   "source": [
    "# 这里可以选择数据集\n",
    "# small是小数据集\n",
    "# farm-ad是整个数据集\n",
    "fileName = r\"data\\small\" # 测试小数据集\n",
    "# fileName = r\"data\\farm-ads\" # 测试整个大的数据集\n",
    "\n",
    "totdata_x, totdata_y = loadData(fileName) # 加载数据\n",
    "\n",
    "startTime = time.time()\n",
    "\n",
    "# 下面可以选择多种算法\n",
    "\n",
    "handw_KNN(totdata_x, totdata_y) # 测试手写KNN算法\n",
    "\n",
    "# handw_LDA1(totdata_x, totdata_y) # 测试手写的LDA1\n",
    "# handw_LDA2(totdata_x, totdata_y) # 测试手写的LDA2\n",
    "# sklearn_LDA(totdata_x, totdata_y) # 测试sklearn中的LDA\n",
    "\n",
    "# handw_SVM(totdata_x, totdata_y) # 测试手写的SVM算法\n",
    "# sklearn_SVM(totdata_x, totdata_y) # 测试sklearn中的SVM算法\n",
    "\n",
    "endTime = time.time()\n",
    "\n",
    "print('程序运行时间：', endTime-startTime, '秒')"
   ]
  },
  {
   "cell_type": "code",
   "execution_count": null,
   "metadata": {},
   "outputs": [],
   "source": []
  }
 ],
 "metadata": {
  "kernelspec": {
   "display_name": "Python [conda env:test1]",
   "language": "python",
   "name": "conda-env-test1-py"
  },
  "language_info": {
   "codemirror_mode": {
    "name": "ipython",
    "version": 3
   },
   "file_extension": ".py",
   "mimetype": "text/x-python",
   "name": "python",
   "nbconvert_exporter": "python",
   "pygments_lexer": "ipython3",
   "version": "3.6.8"
  }
 },
 "nbformat": 4,
 "nbformat_minor": 2
}
