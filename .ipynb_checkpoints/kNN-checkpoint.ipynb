{
 "cells": [
  {
   "cell_type": "code",
   "execution_count": 5,
   "metadata": {},
   "outputs": [],
   "source": [
    "from preprocess import cross_10folds\n",
    "from preprocess import kNNclassify"
   ]
  },
  {
   "cell_type": "code",
   "execution_count": 6,
   "metadata": {},
   "outputs": [],
   "source": [
    "# 使用10折交叉验证\n",
    "def handw_KNN(totdata_x, totdata_y):\n",
    "    res = 0.0\n",
    "    for j in range(0, 10):\n",
    "        train_x, train_y, test_x, test_y = cross_10folds(totdata_x, totdata_y, j)\n",
    "        #print(train_x.shape)\n",
    "        #print(train_y.shape)\n",
    "        #print(test_x.shape)\n",
    "        #print(test_y.shape)\n",
    "        \n",
    "        right = 0\n",
    "        for i in range(test_x.shape[0]):\n",
    "            if(kNNclassify(test_x[i], train_x, train_y, 5)==test_y[i]):\n",
    "                right = right + 1\n",
    "        \n",
    "        res += right/test_y.shape[0]\n",
    "        print(\"第 %d 次的准确率为 %f\" %(j, right/test_y.shape[0]))\n",
    "    \n",
    "    print(\"最后的准确率为 %f\" %(res/10))"
   ]
  },
  {
   "cell_type": "code",
   "execution_count": null,
   "metadata": {},
   "outputs": [],
   "source": []
  }
 ],
 "metadata": {
  "kernelspec": {
   "display_name": "Python [conda env:test1]",
   "language": "python",
   "name": "conda-env-test1-py"
  },
  "language_info": {
   "codemirror_mode": {
    "name": "ipython",
    "version": 3
   },
   "file_extension": ".py",
   "mimetype": "text/x-python",
   "name": "python",
   "nbconvert_exporter": "python",
   "pygments_lexer": "ipython3",
   "version": "3.6.8"
  }
 },
 "nbformat": 4,
 "nbformat_minor": 2
}
