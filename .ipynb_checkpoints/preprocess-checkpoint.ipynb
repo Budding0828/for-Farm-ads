{
 "cells": [
  {
   "cell_type": "code",
   "execution_count": 181,
   "metadata": {},
   "outputs": [],
   "source": [
    "import re\n",
    "import numpy as np\n",
    "import operator"
   ]
  },
  {
   "cell_type": "code",
   "execution_count": 182,
   "metadata": {},
   "outputs": [],
   "source": [
    "# 查看'ad-' 'title-' 类型的数据有多少种\n",
    "# 发现只有{'ad', 'header', 'title'}\n",
    "def findAllPre(fileName):\n",
    "    fr = open(fileName)\n",
    "    preSet = set() # 存储‘ad-’等的前缀，例如ad，header\n",
    "    \n",
    "    # 查看'ad-' 'title-' 类型的数据有多少种\n",
    "    for line in fr.readlines():\n",
    "        curLine = line.strip().split()\n",
    "        for curStr in curLine:\n",
    "            pos = curStr.find('-')\n",
    "            if(pos!=-1 and pos>0):\n",
    "                preSet.add(curStr[0:pos])\n",
    "                \n",
    "    return preSet # 返回所有可能的前缀"
   ]
  },
  {
   "cell_type": "code",
   "execution_count": 183,
   "metadata": {},
   "outputs": [],
   "source": [
    "# 找出所有单词\n",
    "def findAllWord(fileName, uselessSet):\n",
    "    fr = open(fileName)\n",
    "    totWordDict = dict()\n",
    "    cnt = 0\n",
    "    for line in fr.readlines():\n",
    "        curLine = re.split(\"-| \", line)\n",
    "        for curStr in curLine:\n",
    "            if(curStr not in uselessSet and curStr != \"\" and curStr != \"1\"):\n",
    "                if(totWordDict.get(curStr, -1)==-1):\n",
    "                    totWordDict[curStr] = cnt\n",
    "                    cnt = cnt+1\n",
    "\n",
    "    return totWordDict"
   ]
  },
  {
   "cell_type": "code",
   "execution_count": 184,
   "metadata": {},
   "outputs": [],
   "source": [
    "# 生成数据矩阵\n",
    "def genDataMatrix(fileName, dataNum, uselessSet, totWordDict):\n",
    "    totdata_x = np.zeros([dataNum, len(totWordDict)])\n",
    "    totdata_y = np.zeros(dataNum)\n",
    "    \n",
    "    fr = open(fileName)\n",
    "    for line,i in zip(fr.readlines(), range(0,dataNum)):\n",
    "        totdata_y[i] = line.strip().split()[0]  # 第一列是结果 1 和 -1 \n",
    "        curLine = re.split(\"-| \", line)\n",
    "        for curStr in curLine:\n",
    "            if(curStr not in uselessSet and curStr != \"\" and curStr != \"1\"):\n",
    "                totdata_x[i][totWordDict[curStr]] = 1\n",
    "    return totdata_x, totdata_y"
   ]
  },
  {
   "cell_type": "code",
   "execution_count": 185,
   "metadata": {},
   "outputs": [],
   "source": [
    "def cross_10folds(totdata_x, totdata_y, choidx):\n",
    "    dataNum = totdata_x.shape[0]\n",
    "    perFold = dataNum / 10\n",
    "    startidx = int(choidx * perFold)\n",
    "    endidx = int((choidx+1)*perFold)\n",
    "    \n",
    "    test_x = totdata_x[startidx:endidx]\n",
    "    test_y = totdata_y[startidx:endidx]\n",
    "    \n",
    "    train_x = np.delete(totdata_x, range(startidx, endidx), axis=0)\n",
    "    train_y = np.delete(totdata_y, range(startidx, endidx), axis=0)\n",
    "    \n",
    "    return train_x, train_y, test_x, test_y"
   ]
  },
  {
   "cell_type": "code",
   "execution_count": 186,
   "metadata": {},
   "outputs": [],
   "source": [
    "# fileName是文件路径和文件名 \n",
    "# choidx是选择了哪一批数据作为测试集，范围从0-9\n",
    "def loadData(fileName):\n",
    "    dataNum = len(open(fileName,'r').readlines()) # 获取总行数\n",
    "    fr = open(fileName)\n",
    "\n",
    "    uselessSet = findAllPre(fileName) # 不想要的前缀\n",
    "    # print(uselessSet)\n",
    "    uselessSet.add(\"page\") # 加上两个不要的后缀\n",
    "    uselessSet.add(\"found\")\n",
    "    uselessSet.add(\"com\")\n",
    "    uselessSet.add(\"www\")\n",
    "    print(uselessSet)\n",
    "\n",
    "    totWordDict = findAllWord(fileName, uselessSet) # 所有单词的集合\n",
    "\n",
    "    print(\"totword number= \", len(totWordDict))\n",
    "\n",
    "\n",
    "    totdata_x, totdata_y = genDataMatrix(fileName, dataNum, uselessSet, totWordDict)\n",
    "    # print(totdata) 一个非常稀疏的矩阵\n",
    "    # print(totdata.shape)\n",
    "    \n",
    "    totdata_x = totdata_x.astype('float32')\n",
    "    totdata_y = totdata_y.astype('int32')\n",
    "    \n",
    "    return totdata_x, totdata_y"
   ]
  },
  {
   "cell_type": "code",
   "execution_count": 187,
   "metadata": {},
   "outputs": [],
   "source": [
    "def kNNclassify(inX, dataSet, labels, k=5):\n",
    "    dataSetSize = dataSet.shape[0]\n",
    "    diffMat = np.tile(inX, (dataSetSize,1))- dataSet\n",
    "    sqDiffMat = diffMat**2\n",
    "    sqDistances = sqDiffMat.sum(axis=1)\n",
    "    distances = sqDistances**0.5\n",
    "    sortedDistIndicies = distances.argsort()\n",
    "    classCount = {}\n",
    "    for i in range(k):\n",
    "        voteIlabel = labels[sortedDistIndicies[i]]\n",
    "        classCount[voteIlabel] = classCount.get(voteIlabel, 0)+1\n",
    "    sortedClassCount = sorted(classCount.items(), key=operator.itemgetter(1), reverse=True)\n",
    "    return sortedClassCount[0][0]"
   ]
  },
  {
   "cell_type": "code",
   "execution_count": 188,
   "metadata": {},
   "outputs": [],
   "source": []
  },
  {
   "cell_type": "code",
   "execution_count": null,
   "metadata": {},
   "outputs": [],
   "source": []
  }
 ],
 "metadata": {
  "kernelspec": {
   "display_name": "Python [conda env:test1]",
   "language": "python",
   "name": "conda-env-test1-py"
  },
  "language_info": {
   "codemirror_mode": {
    "name": "ipython",
    "version": 3
   },
   "file_extension": ".py",
   "mimetype": "text/x-python",
   "name": "python",
   "nbconvert_exporter": "python",
   "pygments_lexer": "ipython3",
   "version": "3.6.8"
  }
 },
 "nbformat": 4,
 "nbformat_minor": 2
}
